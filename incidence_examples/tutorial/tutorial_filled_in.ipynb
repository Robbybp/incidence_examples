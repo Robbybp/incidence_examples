{
 "cells": [
  {
   "cell_type": "markdown",
   "metadata": {},
   "source": [
    "## Tutorial demonstrating useful functionality of Incidence Analysis for model debugging\n",
    "We will create a small system of equations representing solid phase\n",
    "thermodynamics that was encountered when debugging a chemical \n",
    "looping model and use a maximum matching, the Dulmage-Mendelsohn\n",
    "partition, and block triangularization to analyze what is wrong\n",
    "with it."
   ]
  },
  {
   "cell_type": "markdown",
   "metadata": {},
   "source": [
    "### Imports\n",
    "We import Pyomo, NumPy, Matplotlib, the incidence graph interface we will use to run graph algorithms, a function for getting an incidence matrix (in a particular order), and a function for creating the model used in this example."
   ]
  },
  {
   "cell_type": "code",
   "execution_count": null,
   "metadata": {},
   "outputs": [],
   "source": [
    "import pyomo.environ as pyo \n",
    "from pyomo.contrib.incidence_analysis import IncidenceGraphInterface\n",
    "from pyomo.contrib.incidence_analysis.interface import (\n",
    "    get_structural_incidence_matrix,\n",
    ")\n",
    "from pyomo.contrib.pynumero.interfaces.pyomo_nlp import PyomoNLP\n",
    "from pyomo.common.collections import ComponentSet\n",
    "\n",
    "from idaes.core.util.model_statistics import degrees_of_freedom\n",
    "\n",
    "import numpy as np\n",
    "import matplotlib.pyplot as plt\n",
    "\n",
    "\n",
    "# If you did not run setup.py, but are working from the directory\n",
    "# where this file (and model.py) lives, use this import instead:\n",
    "#from model import make_model\n",
    "from incidence_examples.tutorial.model import make_model"
   ]
  },
  {
   "cell_type": "markdown",
   "metadata": {},
   "source": [
    "### Make model\n",
    "We check this model for zero degrees of freedom, and see if it\n",
    "has a perfect matching of constraints and variables."
   ]
  },
  {
   "cell_type": "code",
   "execution_count": null,
   "metadata": {},
   "outputs": [],
   "source": [
    "m = make_model()\n",
    "\n",
    "igraph = IncidenceGraphInterface(m)\n",
    "matching = igraph.maximum_matching()\n",
    "M = len(igraph.constraints)\n",
    "N = len(igraph.variables)\n",
    "print(\"Degrees of freedom = %s\" % degrees_of_freedom(m))\n",
    "print(M, N, len(matching))\n",
    "\n",
    "print(\"\\nMatching:\")\n",
    "# matching is a ComponentMap mapping constraints to variables\n",
    "for con, var in matching.items():\n",
    "    print()\n",
    "    print(con.name)\n",
    "    print(var.name)"
   ]
  },
  {
   "cell_type": "markdown",
   "metadata": {},
   "source": [
    "### Display unmatched variables and constraints"
   ]
  },
  {
   "cell_type": "code",
   "execution_count": null,
   "metadata": {},
   "outputs": [],
   "source": [
    "print(\"Unmatched constraints:\")\n",
    "for con in igraph.constraints:\n",
    "    if con not in matching:\n",
    "        print(\"  %s\" % con.name)\n",
    "\n",
    "print(\"Unmatched variables:\")\n",
    "matched_var_set = ComponentSet(matching.values())\n",
    "unmatched_vars = []\n",
    "for var in igraph.variables:\n",
    "    if var not in matched_var_set:\n",
    "        unmatched_vars.append(var)\n",
    "        print(\"  %s\" % var.name)"
   ]
  },
  {
   "cell_type": "markdown",
   "metadata": {},
   "source": [
    "We now know what variables and constraints are unmatched.\n",
    "If `sum_component_eqn` contained `flow_mass`, our system would\n",
    "have a perfect matching."
   ]
  },
  {
   "cell_type": "markdown",
   "metadata": {},
   "source": [
    "### Plot an incidence matrix with matched variables and constraints on the diagonal"
   ]
  },
  {
   "cell_type": "code",
   "execution_count": null,
   "metadata": {},
   "outputs": [],
   "source": [
    "# Need to put variables in the right order\n",
    "matched_var_list = []\n",
    "for con in igraph.constraints:\n",
    "    if con in matching:\n",
    "        matched_var_list.append(matching[con])\n",
    "    else:\n",
    "        # \"Associate\" this constraint with a random unmatched var.\n",
    "        matched_var_list.append(unmatched_vars.pop())\n",
    "incidence_matrix = get_structural_incidence_matrix(\n",
    "    matched_var_list, igraph.constraints\n",
    ")\n",
    "plt.figure()\n",
    "plt.spy(incidence_matrix)\n",
    "plt.title(\"Matching on diagonal, initial\")\n",
    "plt.show()"
   ]
  },
  {
   "cell_type": "markdown",
   "metadata": {},
   "source": [
    "Note that this matrix does not have a complete diagonal,\n",
    "and cannot be permuted to have a complete diagonal.\n",
    "This is what is meant by \"structurally singular.\""
   ]
  },
  {
   "cell_type": "markdown",
   "metadata": {},
   "source": [
    "### Use Dulmage-Mendelsohn to investigate source of structural singularity\n",
    "We may already see a potential fix, but it is always a good idea\n",
    "to use the Dulmage-Mendelsohn partition when debugging a structually\n",
    "singular system."
   ]
  },
  {
   "cell_type": "code",
   "execution_count": null,
   "metadata": {},
   "outputs": [],
   "source": [
    "var_dmp, con_dmp = igraph.dulmage_mendelsohn()\n",
    "# The returned types here are named tuples, each with the fields\n",
    "# \"unmatched\", \"underconstrained\", \"overconstrained\", and \"square\".\n",
    "# Each entry in the tuples is a list of variables or constraints.\n",
    "# The unmatched variables and underconstrained variables/constraints\n",
    "# form the \"underconstrained subsystem,\" which has too few\n",
    "# constraints to solve for its variables, while the unmatched\n",
    "# constraints and overconstrained variables/constraints form the\n",
    "# \"overconstrained subsystem,\" which has too many constraints.\n",
    "\n",
    "print(len(var_dmp.unmatched))\n",
    "print(len(con_dmp.underconstrained), len(var_dmp.underconstrained))\n",
    "print(len(con_dmp.square), len(var_dmp.square))\n",
    "print(len(con_dmp.overconstrained), len(var_dmp.overconstrained))\n",
    "print(len(con_dmp.unmatched))"
   ]
  },
  {
   "cell_type": "markdown",
   "metadata": {},
   "source": [
    "We have a 7-by-8 underconstrained system, a 5-by-5 square system,\n",
    "and a 6-by-5 overconstrained system. The Dulmage-Mendelsohn \n",
    "partition tells us what variables and constraints are in these\n",
    "systems."
   ]
  },
  {
   "cell_type": "code",
   "execution_count": null,
   "metadata": {
    "scrolled": false
   },
   "outputs": [],
   "source": [
    "print('unmatched variables:')\n",
    "for var in var_dmp.unmatched:\n",
    "    print(\"  %s\" % var.name)\n",
    "print('underconstrained variables:')\n",
    "for var in var_dmp.underconstrained:\n",
    "    print(\"  %s\" % var.name)\n",
    "print('underconstraining constraints:')\n",
    "for con in con_dmp.underconstrained:\n",
    "    print(\"  %s\" % con.name)\n",
    "\n",
    "print('unmatched constraints:')\n",
    "for con in con_dmp.unmatched:\n",
    "    print(\"  %s\" % con.name)\n",
    "print('overconstrained variables:')\n",
    "for var in var_dmp.overconstrained:\n",
    "    print(\"  %s\" % var.name)\n",
    "print('overconstraining constraints:')\n",
    "for con in con_dmp.overconstrained:\n",
    "    print(\"  %s\" % con.name)"
   ]
  },
  {
   "cell_type": "markdown",
   "metadata": {},
   "source": [
    "Any variable in the underconstrained subsystem _could have been_\n",
    "unmatched, as could any constraint in the overconstrained\n",
    "subsystem. This partition tells us that we are over-specifying\n",
    "density and under-specifying flow rate."
   ]
  },
  {
   "cell_type": "markdown",
   "metadata": {},
   "source": [
    "### Plot incidence matrix in Dulmage-Mendelsohn order"
   ]
  },
  {
   "cell_type": "code",
   "execution_count": null,
   "metadata": {},
   "outputs": [],
   "source": [
    "variables = (\n",
    "    var_dmp.unmatched\n",
    "    + var_dmp.underconstrained\n",
    "    + var_dmp.square\n",
    "    + var_dmp.overconstrained\n",
    ")\n",
    "constraints = (\n",
    "    con_dmp.underconstrained\n",
    "    + con_dmp.square\n",
    "    + con_dmp.overconstrained\n",
    "    + con_dmp.unmatched\n",
    ")\n",
    "incidence_matrix = get_structural_incidence_matrix(variables, constraints)\n",
    "plt.figure()\n",
    "plt.spy(incidence_matrix)\n",
    "plt.title(\"Dulmage-Mendelsohn ordering\")\n",
    "plt.show()"
   ]
  },
  {
   "cell_type": "markdown",
   "metadata": {},
   "source": [
    "### Use knowledge from maximum matching and Dulmage-Mendelsohn to apply a structual fix\n",
    "Our unmatched variable is `flow_mass` and our unmatched constraint\n",
    "is `sum_component_eqn`, which sets the sum of mass fractions equal\n",
    "to one. If we just wrote this as a sum of component flow rates\n",
    "(equal to total flow rate `flow_mass`) instead of a sum of mass\n",
    "fractions, our system would be structually nonsingular."
   ]
  },
  {
   "cell_type": "code",
   "execution_count": null,
   "metadata": {},
   "outputs": [],
   "source": [
    "m.sum_component_eqn.deactivate()\n",
    "\n",
    "@m.Constraint()\n",
    "def sum_flow_eqn(m):\n",
    "    return (\n",
    "        sum(m.flow_mass_comp[j] for j in m.component_list)\n",
    "        == m.flow_mass\n",
    "    )"
   ]
  },
  {
   "cell_type": "markdown",
   "metadata": {},
   "source": [
    "### Re-check model for degrees of freedom and structual singularity"
   ]
  },
  {
   "cell_type": "code",
   "execution_count": null,
   "metadata": {},
   "outputs": [],
   "source": [
    "# Re-construct IncidenceGraphInterface to capture changes\n",
    "# made to the model.\n",
    "igraph = IncidenceGraphInterface(m)\n",
    "matching = igraph.maximum_matching()\n",
    "M = len(igraph.constraints)\n",
    "N = len(igraph.variables)\n",
    "print(\"Degrees of freedom = %s\" % degrees_of_freedom(m))\n",
    "print(M, N, len(matching))\n",
    "\n",
    "print(\"\\nMatching:\")\n",
    "for con, var in matching.items():\n",
    "    print()\n",
    "    print(con.name)\n",
    "    print(var.name)"
   ]
  },
  {
   "cell_type": "markdown",
   "metadata": {},
   "source": [
    "The system is still square, and now has a perfect matching of\n",
    "variables and constraints, so it is no longer structually\n",
    "singular!"
   ]
  },
  {
   "cell_type": "markdown",
   "metadata": {},
   "source": [
    "### Plot incidence matrix, now with zero-free diagonal"
   ]
  },
  {
   "cell_type": "code",
   "execution_count": null,
   "metadata": {},
   "outputs": [],
   "source": [
    "matched_var_list = [matching[con] for con in igraph.constraints]\n",
    "incidence_matrix = get_structural_incidence_matrix(\n",
    "    matched_var_list, igraph.constraints\n",
    ")\n",
    "plt.figure()\n",
    "plt.spy(incidence_matrix)\n",
    "plt.title(\"Matching on diagonal, after fix\")\n",
    "plt.show()"
   ]
  },
  {
   "cell_type": "markdown",
   "metadata": {},
   "source": [
    "### Check Jacobian for \"numeric\" nonsingularity"
   ]
  },
  {
   "cell_type": "code",
   "execution_count": null,
   "metadata": {},
   "outputs": [],
   "source": [
    "# PyNumero requires exactly one active objective\n",
    "m._obj = pyo.Objective(expr=0.0)\n",
    "nlp = PyomoNLP(m)\n",
    "jacobian = nlp.evaluate_jacobian()\n",
    "print(\"Condition number = %1.2e\" % np.linalg.cond(jacobian.toarray()))"
   ]
  },
  {
   "cell_type": "markdown",
   "metadata": {},
   "source": [
    "This seems pretty \"numerically singular\"..."
   ]
  },
  {
   "cell_type": "markdown",
   "metadata": {},
   "source": [
    "### Use a block triangular decomposition to try to determine where the singularity is coming from"
   ]
  },
  {
   "cell_type": "code",
   "execution_count": null,
   "metadata": {},
   "outputs": [],
   "source": [
    "var_blocks, con_blocks = igraph.get_diagonal_blocks()\n",
    "# Return type: two lists of lists\n",
    "# These are the diagonal blocks in a block triangularization of\n",
    "# the incidence graph/Jacobian. These also happen to be the\n",
    "# strongly connected components of a directed graph of variable/\n",
    "# constraint dependence. The directed graph is not unique,\n",
    "# but the strongly connected components (and these diagonal blocks)\n",
    "# are.\n",
    "\n",
    "for i, (vars, cons) in enumerate(zip(var_blocks, con_blocks)):\n",
    "    dim = len(vars)\n",
    "    print(\"Block %s, dim = %s\" % (i, dim))\n",
    "    submatrix = nlp.extract_submatrix_jacobian(vars, cons)\n",
    "    cond = np.linalg.cond(submatrix.toarray())\n",
    "    print(\"Condition number = %1.2e\" % cond)\n",
    "    print(\"  Variables:\")\n",
    "    for var in vars:\n",
    "        print(\"    %s\" % var.name)\n",
    "    print(\"  Constraints:\")\n",
    "    for con in cons:\n",
    "        print(\"    %s\" % con.name)"
   ]
  },
  {
   "cell_type": "markdown",
   "metadata": {},
   "source": [
    "The singularity appears to be coming from Block 1, which contains\n",
    "the `sum_flow_eqn` we just added. This is because when the\n",
    "sum of component mass fractions equals one, `sum_flow_eqn` is a \n",
    "linear combination of the other three equations in this block."
   ]
  },
  {
   "cell_type": "markdown",
   "metadata": {},
   "source": [
    "### Plot the incidence matrix in block triangular form"
   ]
  },
  {
   "cell_type": "code",
   "execution_count": null,
   "metadata": {},
   "outputs": [],
   "source": [
    "variables = sum(var_blocks, [])\n",
    "constraints = sum(con_blocks, [])\n",
    "incidence_matrix = get_structural_incidence_matrix(variables, constraints)\n",
    "plt.figure()\n",
    "plt.spy(incidence_matrix)\n",
    "plt.title(\"Block triangular permutation\")\n",
    "plt.show()"
   ]
  },
  {
   "cell_type": "markdown",
   "metadata": {},
   "source": [
    "### Go back to the drawing board and come up with a real fix\n",
    "As the Dulmage-Mendelsohn partition has shown us, we are\n",
    "\"underconstraining flow rate\" and \"overconstraining density.\"\n",
    "But there should be a relationship between these quantities\n",
    "that we are not including here. Particle density will be determined\n",
    "by the flow rate, and skeletal density will be determined by the\n",
    "composition, so particle porosity must be allowed to vary to avoid\n",
    "overspecifying one of these variables. (Or we could relax the\n",
    "requiremenet that skeletal density is related to skeletal\n",
    "density of individual components...)"
   ]
  },
  {
   "cell_type": "code",
   "execution_count": null,
   "metadata": {},
   "outputs": [],
   "source": [
    "m.sum_flow_eqn.deactivate()\n",
    "m.sum_component_eqn.activate()\n",
    "m.particle_porosity.unfix()\n",
    "\n",
    "# Need an equation to relate density and flow rate\n",
    "@m.Constraint()\n",
    "def flow_density_eqn(b):\n",
    "    return m.flow_mass == m.velocity * m.area * m.dens_mass_particle"
   ]
  },
  {
   "cell_type": "markdown",
   "metadata": {},
   "source": [
    "### Make sure we still have zero degrees of freedom and a perfect matching"
   ]
  },
  {
   "cell_type": "code",
   "execution_count": null,
   "metadata": {},
   "outputs": [],
   "source": [
    "print(degrees_of_freedom(m))\n",
    "# Re-construct IncidenceGraphInterface to capture change in model\n",
    "igraph = IncidenceGraphInterface(m)\n",
    "matching = igraph.maximum_matching()\n",
    "M = len(igraph.constraints)\n",
    "N = len(igraph.variables)\n",
    "print(M, N, len(matching))"
   ]
  },
  {
   "cell_type": "markdown",
   "metadata": {},
   "source": [
    "### Check numeric singularity"
   ]
  },
  {
   "cell_type": "code",
   "execution_count": null,
   "metadata": {},
   "outputs": [],
   "source": [
    "nlp = PyomoNLP(m)\n",
    "jacobian = nlp.evaluate_jacobian()\n",
    "cond = np.linalg.cond(jacobian.toarray())\n",
    "print(\"Condition number = %1.2e\" % cond)"
   ]
  },
  {
   "cell_type": "markdown",
   "metadata": {},
   "source": [
    "Looks nonsingular! For good measure, perform a block\n",
    "triangularization and get the condition number of each diagonal\n",
    "block."
   ]
  },
  {
   "cell_type": "code",
   "execution_count": null,
   "metadata": {},
   "outputs": [],
   "source": [
    "var_blocks, con_blocks = igraph.get_diagonal_blocks()\n",
    "for i, (vars, cons) in enumerate(zip(var_blocks, con_blocks)):\n",
    "    dim = len(vars)\n",
    "    print(\"Block %s, dim = %s\" % (i, dim))\n",
    "    submatrix = nlp.extract_submatrix_jacobian(vars, cons)\n",
    "    cond = np.linalg.cond(submatrix.toarray())\n",
    "    print(\"Condition number = %1.2e\" % cond)\n",
    "    print(\"  Variables:\")\n",
    "    for var in vars:\n",
    "        print(\"    %s\" % var.name)\n",
    "    print(\"  Constraints:\")\n",
    "    for con in cons:\n",
    "        print(\"    %s\" % con.name)"
   ]
  },
  {
   "cell_type": "markdown",
   "metadata": {},
   "source": [
    "Looks good! We even have fewer diagonal blocks of dimension greater\n",
    "than one now."
   ]
  },
  {
   "cell_type": "code",
   "execution_count": null,
   "metadata": {},
   "outputs": [],
   "source": [
    "variables = sum(var_blocks, [])\n",
    "constraints = sum(con_blocks, [])\n",
    "incidence_matrix = get_structural_incidence_matrix(variables, constraints)\n",
    "plt.figure()\n",
    "plt.spy(incidence_matrix)\n",
    "plt.title(\"Block triangular permutation, after fix\")\n",
    "plt.show()"
   ]
  }
 ],
 "metadata": {
  "kernelspec": {
   "display_name": "Python 3",
   "language": "python",
   "name": "python3"
  },
  "language_info": {
   "codemirror_mode": {
    "name": "ipython",
    "version": 3
   },
   "file_extension": ".py",
   "mimetype": "text/x-python",
   "name": "python",
   "nbconvert_exporter": "python",
   "pygments_lexer": "ipython3",
   "version": "3.7.8"
  }
 },
 "nbformat": 4,
 "nbformat_minor": 4
}
