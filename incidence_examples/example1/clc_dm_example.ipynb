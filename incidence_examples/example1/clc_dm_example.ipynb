{
 "cells": [
  {
   "cell_type": "markdown",
   "metadata": {},
   "source": [
    "## Application of the Dulmage-Mendelsohn partition to a dynamic chemical looping combustion reactor model\n",
    "This example constructs a chemical looping combustion reduction reactor using IDAES models, and attempts to fix degrees of freedom to obtain a square and nonsingular model. The Dulmage-Mendelsohn partition is used to debug the case where we unexpectedly have non-zero degrees of freedom as well as the case where we have zero degrees of freedom but a structurally singular model."
   ]
  },
  {
   "cell_type": "markdown",
   "metadata": {},
   "source": [
    "### Imports\n",
    "We will use Pyomo and IDAES, as well as the Pyomo extension \"Incidence Analysis.\" `IncidenceGraphInterface` provides an interface to perform some simple graph algorithms on Pyomo models."
   ]
  },
  {
   "cell_type": "code",
   "execution_count": null,
   "metadata": {},
   "outputs": [],
   "source": [
    "import pyomo.environ as pyo \n",
    "from pyomo.contrib.incidence_analysis import IncidenceGraphInterface\n",
    "\n",
    "import idaes.core as idaes\n",
    "from idaes.core.util.model_statistics import degrees_of_freedom\n",
    "\n",
    "from idaes.gas_solid_contactors.unit_models import MBR as MovingBed\n",
    "from idaes.gas_solid_contactors.properties.methane_iron_OC_reduction import (\n",
    "    GasPhaseParameterBlock,\n",
    "    SolidPhaseParameterBlock,\n",
    "    HeteroReactionParameterBlock,\n",
    ")"
   ]
  },
  {
   "cell_type": "markdown",
   "metadata": {},
   "source": [
    "### Construct and discretize the dynamic model\n",
    "This will look familiar if you have used IDAES before. Otherwise the important thing is that after this code we are left with a fully discretized (in length and time) dynamic model of the chemical looping combustion (CLC) reactor."
   ]
  },
  {
   "cell_type": "code",
   "execution_count": null,
   "metadata": {
    "scrolled": false
   },
   "outputs": [],
   "source": [
    "m = pyo.ConcreteModel()\n",
    "horizon = 1500.0\n",
    "fs_config = {\n",
    "    \"dynamic\": True,\n",
    "    \"time_units\": pyo.units.s,\n",
    "    \"time_set\": [0.0, horizon],\n",
    "}\n",
    "m.fs = idaes.FlowsheetBlock(default=fs_config)\n",
    "m.fs.gas_properties = GasPhaseParameterBlock()\n",
    "m.fs.solid_properties = SolidPhaseParameterBlock()\n",
    "rxn_config = {\n",
    "    \"solid_property_package\": m.fs.solid_properties,\n",
    "    \"gas_property_package\": m.fs.gas_properties,\n",
    "}\n",
    "m.fs.hetero_reactions = HeteroReactionParameterBlock(default=rxn_config)\n",
    "\n",
    "nxfe = 5\n",
    "xfe_list = [1.0*i/nxfe for i in range(nxfe + 1)]\n",
    "mb_config = {\n",
    "    \"has_holdup\": True,\n",
    "    \"finite_elements\": nxfe,\n",
    "    \"length_domain_set\": xfe_list,\n",
    "    \"transformation_method\": \"dae.collocation\",\n",
    "    \"transformation_scheme\": \"LAGRANGE-RADAU\",\n",
    "    \"pressure_drop_type\": \"ergun_correlation\",\n",
    "    \"gas_phase_config\": {\n",
    "        \"property_package\": m.fs.gas_properties,\n",
    "    },      \n",
    "    \"solid_phase_config\": {\n",
    "        \"property_package\": m.fs.solid_properties,\n",
    "        \"reaction_package\": m.fs.hetero_reactions,\n",
    "    },\n",
    "}\n",
    "m.fs.moving_bed = MovingBed(default=mb_config)\n",
    "\n",
    "time = m.fs.time\n",
    "t0 = time.first()\n",
    "disc = pyo.TransformationFactory(\"dae.finite_difference\")\n",
    "ntfe = 5\n",
    "disc.apply_to(m, wrt=time, nfe=ntfe, scheme=\"BACKWARD\")"
   ]
  },
  {
   "cell_type": "markdown",
   "metadata": {},
   "source": [
    "### Check degrees of freedom of model"
   ]
  },
  {
   "cell_type": "code",
   "execution_count": null,
   "metadata": {},
   "outputs": [],
   "source": [
    "print(degrees_of_freedom(m))"
   ]
  },
  {
   "cell_type": "markdown",
   "metadata": {},
   "source": [
    "### Fix degrees of freedom in the reactor model"
   ]
  },
  {
   "cell_type": "code",
   "execution_count": null,
   "metadata": {
    "scrolled": true
   },
   "outputs": [],
   "source": [
    "# Fix geometry variables\n",
    "m.fs.moving_bed.bed_diameter.fix()\n",
    "m.fs.moving_bed.bed_height.fix()\n",
    "\n",
    "# Fix dynamic inputs (inlet conditions) at every point in time\n",
    "m.fs.moving_bed.gas_inlet.flow_mol[:].fix()\n",
    "m.fs.moving_bed.gas_inlet.pressure[:].fix()\n",
    "m.fs.moving_bed.gas_inlet.temperature[:].fix()\n",
    "m.fs.moving_bed.gas_inlet.mole_frac_comp[:, \"CO2\"].fix()\n",
    "m.fs.moving_bed.gas_inlet.mole_frac_comp[:, \"H2O\"].fix()\n",
    "m.fs.moving_bed.gas_inlet.mole_frac_comp[:, \"CH4\"].fix()\n",
    "m.fs.moving_bed.solid_inlet.flow_mass[:].fix()\n",
    "m.fs.moving_bed.solid_inlet.temperature[:].fix()\n",
    "m.fs.moving_bed.solid_inlet.particle_porosity[:].fix()\n",
    "m.fs.moving_bed.solid_inlet.mass_frac_comp[:, \"Fe2O3\"].fix()\n",
    "m.fs.moving_bed.solid_inlet.mass_frac_comp[:, \"Fe3O4\"].fix()\n",
    "m.fs.moving_bed.solid_inlet.mass_frac_comp[:, \"Al2O3\"].fix()\n",
    "\n",
    "# Fix differential variables at the initial time point\n",
    "m.fs.moving_bed.gas_phase.material_holdup[t0, ...].fix()\n",
    "m.fs.moving_bed.gas_phase.energy_holdup[t0, ...].fix()\n",
    "m.fs.moving_bed.solid_phase.material_holdup[t0, ...].fix()\n",
    "m.fs.moving_bed.solid_phase.energy_holdup[t0, ...].fix();"
   ]
  },
  {
   "cell_type": "markdown",
   "metadata": {},
   "source": [
    "### Check degrees of freedom again"
   ]
  },
  {
   "cell_type": "code",
   "execution_count": null,
   "metadata": {},
   "outputs": [],
   "source": [
    "print(degrees_of_freedom(m))"
   ]
  },
  {
   "cell_type": "markdown",
   "metadata": {},
   "source": [
    "We got something wrong and fixed too many degrees of freedom. Instead of guessing, we can use the Dulmage-Mendelsohn partition to tell us which variables are overspecified."
   ]
  },
  {
   "cell_type": "code",
   "execution_count": null,
   "metadata": {},
   "outputs": [],
   "source": [
    "igraph = IncidenceGraphInterface(m)\n",
    "var_dmp, con_dmp = igraph.dulmage_mendelsohn()\n",
    "\n",
    "print(\"Overconstrained variables:\")\n",
    "for var in var_dmp.overconstrained:\n",
    "    print(\"  %s\" % var.name)\n",
    "print(\"Overconstraining equations:\")\n",
    "for con in con_dmp.overconstrained:\n",
    "    print(\"  %s\" % con.name)\n",
    "for con in con_dmp.unmatched:\n",
    "    print(\"  %s\" % con.name)"
   ]
  },
  {
   "cell_type": "markdown",
   "metadata": {},
   "source": [
    "### Use our expertise to come up with a fix\n",
    "We need to decide which variables should have been solved for by eight of these equations. The Dulmage-Mendelsohn partition won't do this for us, in part because the choice of variables to unfix is not unique.\n",
    "\n",
    "The extra equations seem to be holdup calculation equations at `t0` and `x0` or `xf`, depending on phase. The correct solution is to unfix initial conditions that overlap with boundary conditions (or boundary conditions that overlap with initial conditions)."
   ]
  },
  {
   "cell_type": "code",
   "execution_count": null,
   "metadata": {},
   "outputs": [],
   "source": [
    "x0 = m.fs.moving_bed.length_domain.first()\n",
    "xf = m.fs.moving_bed.length_domain.last()\n",
    "m.fs.moving_bed.gas_phase.material_holdup[t0, x0, ...].unfix()\n",
    "m.fs.moving_bed.gas_phase.energy_holdup[t0, x0, ...].unfix()\n",
    "m.fs.moving_bed.solid_phase.material_holdup[t0, xf, ...].unfix()\n",
    "m.fs.moving_bed.solid_phase.energy_holdup[t0, xf, ...].unfix();"
   ]
  },
  {
   "cell_type": "markdown",
   "metadata": {},
   "source": [
    "### Re-check degrees of freedom"
   ]
  },
  {
   "cell_type": "code",
   "execution_count": null,
   "metadata": {},
   "outputs": [],
   "source": [
    "print(degrees_of_freedom(m))"
   ]
  },
  {
   "cell_type": "markdown",
   "metadata": {},
   "source": [
    "### Make sure the model is structurally nonsingular"
   ]
  },
  {
   "cell_type": "code",
   "execution_count": null,
   "metadata": {},
   "outputs": [],
   "source": [
    "# Re-construct the interface to make sure unfixed variables\n",
    "# are included.\n",
    "igraph = IncidenceGraphInterface(m)\n",
    "N = len(igraph.constraints)\n",
    "M = len(igraph.variables)\n",
    "matching = igraph.maximum_matching()\n",
    "# If a maximum matching contains all constraints and variables,\n",
    "# the square model is structurally nonsingular\n",
    "print(N, M, len(matching))"
   ]
  },
  {
   "cell_type": "markdown",
   "metadata": {},
   "source": [
    "### What if we didn't use Dulmage-Mendelsohn and chose a slightly different fix\n",
    "Such as unfixing solid phase differential variables at `t0` and `x0` instead of `xf`"
   ]
  },
  {
   "cell_type": "code",
   "execution_count": null,
   "metadata": {},
   "outputs": [],
   "source": [
    "# Fix solid phase initial conditions at x0\n",
    "m.fs.moving_bed.solid_phase.material_holdup[t0, x0, ...].unfix()\n",
    "m.fs.moving_bed.solid_phase.energy_holdup[t0, x0, ...].unfix()\n",
    "# And unfix them at xf\n",
    "m.fs.moving_bed.solid_phase.material_holdup[t0, xf, ...].fix()\n",
    "m.fs.moving_bed.solid_phase.energy_holdup[t0, xf, ...].fix();"
   ]
  },
  {
   "cell_type": "markdown",
   "metadata": {},
   "source": [
    "### Re-check degrees of freedom"
   ]
  },
  {
   "cell_type": "code",
   "execution_count": null,
   "metadata": {},
   "outputs": [],
   "source": [
    "print(degrees_of_freedom(m))"
   ]
  },
  {
   "cell_type": "markdown",
   "metadata": {},
   "source": [
    "Looks good!"
   ]
  },
  {
   "cell_type": "markdown",
   "metadata": {},
   "source": [
    "### Check for structural nonsingularity"
   ]
  },
  {
   "cell_type": "code",
   "execution_count": null,
   "metadata": {},
   "outputs": [],
   "source": [
    "igraph = IncidenceGraphInterface(m)\n",
    "N = len(igraph.constraints)\n",
    "M = len(igraph.variables)\n",
    "matching = igraph.maximum_matching()\n",
    "print(N, M, len(matching))"
   ]
  },
  {
   "cell_type": "markdown",
   "metadata": {},
   "source": [
    "But a maximum matching doesn't include all the constraints and variables, so the model is structurally singular."
   ]
  },
  {
   "cell_type": "code",
   "execution_count": null,
   "metadata": {},
   "outputs": [],
   "source": [
    "var_dmp, con_dmp = igraph.dulmage_mendelsohn()\n",
    "print(\"Underconstrained variables:\")\n",
    "for var in var_dmp.unmatched:\n",
    "    print(\"  %s\" % var.name)\n",
    "for var in var_dmp.underconstrained:\n",
    "    print(\"  %s\" % var.name)\n",
    "print(\"Overconstraining equations:\")\n",
    "for con in con_dmp.unmatched:\n",
    "    print(\"  %s\" % con.name)\n",
    "for con in con_dmp.overconstrained:\n",
    "    print(\"  %s\" % con.name)"
   ]
  },
  {
   "cell_type": "markdown",
   "metadata": {},
   "source": [
    "We have unmatched variables at `x0` and unmatched constraints at `xf`"
   ]
  },
  {
   "cell_type": "markdown",
   "metadata": {},
   "source": [
    "So we really did need to unfix solid phase initial conditions only at `xf`"
   ]
  },
  {
   "cell_type": "code",
   "execution_count": null,
   "metadata": {},
   "outputs": [],
   "source": [
    "m.fs.moving_bed.solid_phase.material_holdup[t0, x0, ...].fix()\n",
    "m.fs.moving_bed.solid_phase.energy_holdup[t0, x0, ...].fix()\n",
    "m.fs.moving_bed.solid_phase.material_holdup[t0, xf, ...].unfix()\n",
    "m.fs.moving_bed.solid_phase.energy_holdup[t0, xf, ...].unfix()\n",
    "\n",
    "print(degrees_of_freedom(m))\n",
    "igraph = IncidenceGraphInterface(m)\n",
    "N = len(igraph.constraints)\n",
    "M = len(igraph.variables)\n",
    "matching = igraph.maximum_matching()\n",
    "print(N, M, len(matching))"
   ]
  },
  {
   "cell_type": "markdown",
   "metadata": {},
   "source": [
    "### Take-aways from this example:\n",
    "- Just because a model has zero degrees of freedom doesn't mean its specification is \"correct\"\n",
    "- The Dulmage-Mendelsohn partition can help when you expect to have zero degrees of freedom, but don't\n",
    "- Always check whether your (square) model has a perfect matching of equations and variables\n",
    "- If it doesn't, you can use the Dulmage-Mendelsohn partition to help find out why"
   ]
  },
  {
   "cell_type": "code",
   "execution_count": null,
   "metadata": {},
   "outputs": [],
   "source": []
  }
 ],
 "metadata": {
  "kernelspec": {
   "display_name": "Python 3",
   "language": "python",
   "name": "python3"
  },
  "language_info": {
   "codemirror_mode": {
    "name": "ipython",
    "version": 3
   },
   "file_extension": ".py",
   "mimetype": "text/x-python",
   "name": "python",
   "nbconvert_exporter": "python",
   "pygments_lexer": "ipython3",
   "version": "3.9.9"
  }
 },
 "nbformat": 4,
 "nbformat_minor": 4
}
