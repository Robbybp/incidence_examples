{
 "cells": [
  {
   "cell_type": "markdown",
   "metadata": {},
   "source": [
    "## Solving a square subsystem with strongly connected components\n",
    "Sometimes, say during an initialization routine, we need to solve a square system. If that system is challenging or poorly initialized, it may be easier to decompose it into strongly connected components (SCCs) and solve those individually than to solve the system simultaneously."
   ]
  },
  {
   "cell_type": "markdown",
   "metadata": {},
   "source": [
    "### Imports\n",
    "We import Pyomo and IDAES, as well as a class and function from the `incidence_analysis` Pyomo extension."
   ]
  },
  {
   "cell_type": "code",
   "execution_count": null,
   "metadata": {},
   "outputs": [],
   "source": [
    "import pyomo.environ as pyo \n",
    "from pyomo.dae.flatten import flatten_components_along_sets\n",
    "from pyomo.common.collections import ComponentSet\n",
    "from pyomo.core.expr.visitor import identify_variables\n",
    "from pyomo.util.subsystems import create_subsystem_block\n",
    "\n",
    "from pyomo.contrib.incidence_analysis import (\n",
    "    IncidenceGraphInterface,\n",
    "    solve_strongly_connected_components,\n",
    ")\n",
    "\n",
    "import idaes.core as idaes\n",
    "from idaes.core.util.model_statistics import (\n",
    "    degrees_of_freedom,\n",
    "    large_residuals_set,\n",
    ")\n",
    "\n",
    "from idaes.gas_solid_contactors.unit_models.moving_bed import MBR as MovingBed\n",
    "from idaes.gas_solid_contactors.properties.methane_iron_OC_reduction import (\n",
    "    GasPhaseParameterBlock,\n",
    "    SolidPhaseParameterBlock,\n",
    "    HeteroReactionParameterBlock,\n",
    ")"
   ]
  },
  {
   "cell_type": "markdown",
   "metadata": {},
   "source": [
    "## Create basic chemical looing model"
   ]
  },
  {
   "cell_type": "code",
   "execution_count": null,
   "metadata": {},
   "outputs": [],
   "source": [
    "m = pyo.ConcreteModel()\n",
    "fs_config = {\"dynamic\": False}\n",
    "m.fs = idaes.FlowsheetBlock(default=fs_config)\n",
    "m.fs.gas_properties = GasPhaseParameterBlock()\n",
    "m.fs.solid_properties = SolidPhaseParameterBlock()\n",
    "rxn_config = { \n",
    "    \"solid_property_package\": m.fs.solid_properties,\n",
    "    \"gas_property_package\": m.fs.gas_properties,\n",
    "}\n",
    "m.fs.hetero_reactions = HeteroReactionParameterBlock(default=rxn_config)\n",
    "\n",
    "nxfe = 10\n",
    "xfe_list = [1.0*i/nxfe for i in range(nxfe + 1)] \n",
    "mb_config = { \n",
    "    \"has_holdup\": True,\n",
    "    \"finite_elements\": nxfe,\n",
    "    \"length_domain_set\": xfe_list,\n",
    "    \"transformation_method\": \"dae.collocation\",\n",
    "    \"transformation_scheme\": \"LAGRANGE-RADAU\",\n",
    "    \"pressure_drop_type\": \"ergun_correlation\",\n",
    "    \"gas_phase_config\": {\n",
    "        \"property_package\": m.fs.gas_properties,\n",
    "    },\n",
    "    \"solid_phase_config\": {\n",
    "        \"property_package\": m.fs.solid_properties,\n",
    "        \"reaction_package\": m.fs.hetero_reactions,\n",
    "    },\n",
    "}   \n",
    "m.fs.moving_bed = MovingBed(default=mb_config)\n",
    "\n",
    "m.fs.moving_bed.bed_diameter.fix(6.5)\n",
    "m.fs.moving_bed.bed_height.fix(5.0)"
   ]
  },
  {
   "cell_type": "markdown",
   "metadata": {},
   "source": [
    "### Fix variables and deactivate constraints to get a square subsystem that we solve during initialization\n",
    "Just take my word that, for some reason, we want to solve this subsystem during initialization."
   ]
  },
  {
   "cell_type": "code",
   "execution_count": null,
   "metadata": {},
   "outputs": [],
   "source": [
    "t0 = m.fs.time.first()\n",
    "gas_length = m.fs.moving_bed.gas_phase.length_domain\n",
    "solid_length = m.fs.moving_bed.solid_phase.length_domain\n",
    "x0 = gas_length.first()\n",
    "xf = gas_length.last()\n",
    "\n",
    "gas = m.fs.moving_bed.gas_phase.properties\n",
    "solid = m.fs.moving_bed.solid_phase.properties\n",
    "gas[:, :].flow_mol.fix(128.2)\n",
    "gas[:, :].pressure.fix(2.0)\n",
    "gas[:, :].temperature.fix(298.15)\n",
    "gas[:, :].mole_frac_comp[\"CH4\"].fix(0.975)\n",
    "gas[:, :].mole_frac_comp[\"CO2\"].fix(0.0)\n",
    "gas[:, :].mole_frac_comp[\"H2O\"].fix(0.025)\n",
    "solid[:, :].flow_mass.fix(591.4)\n",
    "solid[:, :].temperature.fix(1183.15)\n",
    "solid[:, :].mass_frac_comp[\"Fe2O3\"].fix(0.45)\n",
    "solid[:, :].mass_frac_comp[\"Fe3O4\"].fix(0.0)\n",
    "solid[:, :].mass_frac_comp[\"Al2O3\"].fix(0.55)\n",
    "\n",
    "solid[t0, xf].particle_porosity.fix(0.27)\n",
    "\n",
    "gas_sum_slice = gas[:, :].sum_component_eqn\n",
    "solid_sum_slice = solid[:, :].sum_component_eqn\n",
    "gas_sum_slice.attribute_errors_generate_exceptions = False\n",
    "solid_sum_slice.attribute_errors_generate_exceptions = False\n",
    "gas_sum_slice.deactivate()\n",
    "solid_sum_slice.deactivate()\n",
    "\n",
    "gas = m.fs.moving_bed.gas_phase\n",
    "solid = m.fs.moving_bed.solid_phase\n",
    "for phase in (gas, solid):\n",
    "    phase.material_flow_dx_disc_eq.deactivate()\n",
    "    phase.enthalpy_flow_dx_disc_eq.deactivate()\n",
    "gas.pressure_dx_disc_eq.deactivate()"
   ]
  },
  {
   "cell_type": "markdown",
   "metadata": {},
   "source": [
    "### Make sure the subsystem has zero degrees of freedom and a perfect matching"
   ]
  },
  {
   "cell_type": "code",
   "execution_count": null,
   "metadata": {},
   "outputs": [],
   "source": [
    "print(degrees_of_freedom(m))\n",
    "igraph = IncidenceGraphInterface(m)\n",
    "N = len(igraph.constraints)\n",
    "M = len(igraph.variables)\n",
    "matching = igraph.maximum_matching()\n",
    "print(N, M, len(matching))"
   ]
  },
  {
   "cell_type": "markdown",
   "metadata": {},
   "source": [
    "### Try to solve the square system with IPOPT"
   ]
  },
  {
   "cell_type": "code",
   "execution_count": null,
   "metadata": {},
   "outputs": [],
   "source": [
    "ipopt = pyo.SolverFactory(\"ipopt\")\n",
    "ipopt.options[\"max_iter\"] = 1000\n",
    "ipopt.solve(m, tee=True)"
   ]
  },
  {
   "cell_type": "markdown",
   "metadata": {},
   "source": [
    "IPOPT converges infeasible. This isn't uncommon for a non-tiny system of nonlinear equations that isn't initialized particularly well."
   ]
  },
  {
   "cell_type": "markdown",
   "metadata": {},
   "source": [
    "### Check if our system decomposes into strongly connected components"
   ]
  },
  {
   "cell_type": "code",
   "execution_count": null,
   "metadata": {},
   "outputs": [],
   "source": [
    "var_blocks, con_blocks = igraph.get_diagonal_blocks()\n",
    "print(len(var_blocks))"
   ]
  },
  {
   "cell_type": "markdown",
   "metadata": {},
   "source": [
    "Our system perfectly decomposes into strongly connected components (which are the diagonal blocks in a block triangularization of the Jacobian) of size one. We can solve these strongly connected components individually rather than attempting to solve the system simultaneously."
   ]
  },
  {
   "cell_type": "markdown",
   "metadata": {},
   "source": [
    "### Decompose this system into strongly connected components and solve individually"
   ]
  },
  {
   "cell_type": "code",
   "execution_count": null,
   "metadata": {},
   "outputs": [],
   "source": [
    "calc_var_kwds = {\"eps\": 5e-6}\n",
    "solve_strongly_connected_components(\n",
    "    m, calc_var_kwds=calc_var_kwds, solver=ipopt\n",
    ");"
   ]
  },
  {
   "cell_type": "markdown",
   "metadata": {},
   "source": [
    "Solving strongly connected components (in a topological order) is equivalent (within tolerance) to solving the entire system simultaneously. We have eliminated the (primal) infeasibility in our subsystem. I promise that the infeasible starting point we happened to converge to with IPOPT in the previous cell wasn't necessary for the SCC solve."
   ]
  },
  {
   "cell_type": "code",
   "execution_count": null,
   "metadata": {},
   "outputs": [],
   "source": [
    "print(len(large_residuals_set(m)))"
   ]
  },
  {
   "cell_type": "markdown",
   "metadata": {},
   "source": [
    "### Solve with IPOPT for good measure"
   ]
  },
  {
   "cell_type": "code",
   "execution_count": null,
   "metadata": {},
   "outputs": [],
   "source": [
    "ipopt.solve(m, tee=True)"
   ]
  },
  {
   "cell_type": "markdown",
   "metadata": {},
   "source": [
    "### Take-away\n",
    "If you have a square system that is giving you trouble, decomposing and solving by strongly connected components can be very useful."
   ]
  }
 ],
 "metadata": {
  "kernelspec": {
   "display_name": "Python 3",
   "language": "python",
   "name": "python3"
  },
  "language_info": {
   "codemirror_mode": {
    "name": "ipython",
    "version": 3
   },
   "file_extension": ".py",
   "mimetype": "text/x-python",
   "name": "python",
   "nbconvert_exporter": "python",
   "pygments_lexer": "ipython3",
   "version": "3.7.8"
  }
 },
 "nbformat": 4,
 "nbformat_minor": 4
}
